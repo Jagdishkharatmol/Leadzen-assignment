{
  "nbformat": 4,
  "nbformat_minor": 0,
  "metadata": {
    "colab": {
      "provenance": []
    },
    "kernelspec": {
      "name": "python3",
      "display_name": "Python 3"
    },
    "language_info": {
      "name": "python"
    }
  },
  "cells": [
    {
      "cell_type": "markdown",
      "source": [
        "**Problem 3: Find the longest palindrome from the given string.**"
      ],
      "metadata": {
        "id": "EPhBCnyeD0-G"
      }
    },
    {
      "cell_type": "code",
      "execution_count": 11,
      "metadata": {
        "id": "KrsaUSx88IO8"
      },
      "outputs": [],
      "source": [
        "def longest_palindrome(text):\n",
        "  palindromes=[]\n",
        "  for fixed_index in range(len(text)):\n",
        "    for moving_index in range(len(text)):\n",
        "      if text[fixed_index:moving_index+1]==\"\".join(reversed(text[fixed_index:moving_index+1])):\n",
        "        palindromes.append(text[fixed_index:moving_index+1])\n",
        "  print(max(palindromes,key=len))\n",
        "  return  "
      ]
    },
    {
      "cell_type": "code",
      "source": [
        "text=\"madam\"\n",
        "text=\"babad\"\n",
        "text=\"cbbd\"\n",
        "longest_palindrome(text)"
      ],
      "metadata": {
        "id": "63RfuiJs-3i7",
        "colab": {
          "base_uri": "https://localhost:8080/"
        },
        "outputId": "0f0f30a5-d6d1-4359-d21c-48ead5a7d0c4"
      },
      "execution_count": 14,
      "outputs": [
        {
          "output_type": "stream",
          "name": "stdout",
          "text": [
            "bb\n"
          ]
        }
      ]
    },
    {
      "cell_type": "markdown",
      "source": [
        "**Problem 1: Identify whether the given linked list is a cyclic or not?**"
      ],
      "metadata": {
        "id": "abc4T2LkECYz"
      }
    },
    {
      "cell_type": "code",
      "source": [
        "\n",
        "class Node:\n",
        "    def __init__(self, data):\n",
        "        self.data = data\n",
        "        self.next = None\n",
        " \n",
        " \n",
        "class LinkedList:\n",
        "\n",
        "    def __init__(self):\n",
        "        self.head = None\n",
        "\n",
        "    def push(self, new_data):\n",
        "        new_node = Node(new_data)\n",
        "        new_node.next = self.head\n",
        "        self.head = new_node\n",
        "\n",
        "    def printList(self):\n",
        "        temp = self.head\n",
        "        if temp==None:\n",
        "          print(\"Linkedlist is empty\")\n",
        "        while(temp):\n",
        "            print(temp.data, end=\" \")\n",
        "            temp = temp.next\n",
        "\n",
        "    def has_cycle(self):\n",
        "        slow=fast=self.head\n",
        "\n",
        "        while fast!=None and fast.next!=None:\n",
        "          slow=slow.next\n",
        "          fast=fast.next.next\n",
        "\n",
        "          if slow==fast:\n",
        "            return True\n",
        "        return False\n",
        " \n",
        "\n",
        "\n",
        "llist = LinkedList()\n",
        "llist.push(20)\n",
        "llist.push(4)\n",
        "llist.push(15)\n",
        "llist.push(10)\n",
        "llist.has_cycle()"
      ],
      "metadata": {
        "colab": {
          "base_uri": "https://localhost:8080/"
        },
        "id": "E_m8JgusM6jb",
        "outputId": "a4a39d97-c051-4cab-9773-9907e22bfce2"
      },
      "execution_count": 17,
      "outputs": [
        {
          "output_type": "execute_result",
          "data": {
            "text/plain": [
              "False"
            ]
          },
          "metadata": {},
          "execution_count": 17
        }
      ]
    },
    {
      "cell_type": "code",
      "source": [],
      "metadata": {
        "id": "KKrKGYsmA7Ez"
      },
      "execution_count": null,
      "outputs": []
    }
  ]
}